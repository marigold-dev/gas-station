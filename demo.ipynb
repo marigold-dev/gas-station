{
 "cells": [
  {
   "cell_type": "code",
   "execution_count": 1,
   "id": "422ed9fb",
   "metadata": {},
   "outputs": [],
   "source": [
    "import requests\n",
    "import json\n",
    "\n",
    "import pytezos as ptz\n",
    "from pytezos import Key\n",
    "\n",
    "import demo.demo as demo"
   ]
  },
  {
   "cell_type": "markdown",
   "id": "bf30339a",
   "metadata": {},
   "source": [
    "We're using https://packages.ligolang.org/contract/Permit-Cameligo which itself extends `ligo-extendable-fa2` to add a Permit implementation."
   ]
  },
  {
   "cell_type": "code",
   "execution_count": 2,
   "id": "ec0b026a",
   "metadata": {},
   "outputs": [],
   "source": [
    "!ligo compile contract permit-cameligo/src/main.mligo > permit-contract.tz"
   ]
  },
  {
   "cell_type": "code",
   "execution_count": 3,
   "id": "ca997544",
   "metadata": {},
   "outputs": [],
   "source": [
    "!ligo compile contract demo/staking-contract.mligo > staking-contract.tz"
   ]
  },
  {
   "cell_type": "markdown",
   "id": "aa0d983b",
   "metadata": {},
   "source": [
    "Make sure the API is running by visiting http://127.0.0.1:8000/docs. The API is written in Python using FastAPI and can be started with `uvicorn src.main:app --reload`."
   ]
  },
  {
   "cell_type": "markdown",
   "id": "70d2bcde",
   "metadata": {},
   "source": [
    "# Deploying the contracts"
   ]
  },
  {
   "cell_type": "markdown",
   "id": "7d9ff830",
   "metadata": {},
   "source": [
    "We're using a local network for this demo (typically using Flextesa), but this has been tested on Ghostnet as well. On Ghostnet, operations and balance changes seem to be correctly picked by the indexers, even for a non-revealed account."
   ]
  },
  {
   "cell_type": "code",
   "execution_count": 4,
   "id": "7faf16d9",
   "metadata": {},
   "outputs": [],
   "source": [
    "TEZOS_RPC = \"http://localhost:20000\""
   ]
  },
  {
   "cell_type": "code",
   "execution_count": 5,
   "id": "8083ed76",
   "metadata": {},
   "outputs": [
    {
     "data": {
      "text/plain": [
       "Decimal('1999996.211299')"
      ]
     },
     "execution_count": 5,
     "metadata": {},
     "output_type": "execute_result"
    }
   ],
   "source": [
    "admin_key = Key.from_encoded_key(\"edsk3QoqBuvdamxouPhin7swCvkQNgq4jP5KZPbwWNnwdZpSpJiEbq\")\n",
    "admin_key.public_key_hash()\n",
    "admin = ptz.pytezos.using(TEZOS_RPC, admin_key)\n",
    "admin.balance()"
   ]
  },
  {
   "cell_type": "markdown",
   "id": "ef5fd066",
   "metadata": {},
   "source": [
    "`admin` is a PyTezosClient object. It can query Tezos RPCs, inspect contracts' storage and send operations. This key is used in the API as well, and this is the one doing all the requests for the accounts we're going to define.\n",
    "\n",
    "Its address is `tz1VSUr8wwNhLAzempoch5d6hLRiTh8Cjcjb` and is also known as “alice” among Tezos developers."
   ]
  },
  {
   "cell_type": "code",
   "execution_count": 6,
   "id": "2d880b16",
   "metadata": {},
   "outputs": [
    {
     "data": {
      "text/plain": [
       "'tz1VSUr8wwNhLAzempoch5d6hLRiTh8Cjcjb'"
      ]
     },
     "execution_count": 6,
     "metadata": {},
     "output_type": "execute_result"
    }
   ],
   "source": [
    "admin.key.public_key_hash()"
   ]
  },
  {
   "cell_type": "code",
   "execution_count": 7,
   "id": "1467f406",
   "metadata": {},
   "outputs": [
    {
     "data": {
      "text/plain": [
       "'KT18mCT5nhvSfidacdU9rAL9KqEvDWQaqJys'"
      ]
     },
     "execution_count": 7,
     "metadata": {},
     "output_type": "execute_result"
    }
   ],
   "source": [
    "nft_contract = demo.deploy_permit(admin)\n",
    "nft_contract.address"
   ]
  },
  {
   "cell_type": "code",
   "execution_count": 8,
   "id": "7cc65629",
   "metadata": {},
   "outputs": [
    {
     "data": {
      "text/plain": [
       "'KT1NYUCNsd5NybHVr3UVYZE4WQmWQn4VJddi'"
      ]
     },
     "execution_count": 8,
     "metadata": {},
     "output_type": "execute_result"
    }
   ],
   "source": [
    "staking_contract = demo.deploy_staking_contract(admin, nft_contract)\n",
    "staking_contract.address"
   ]
  },
  {
   "cell_type": "markdown",
   "id": "512556ff",
   "metadata": {},
   "source": [
    "# Minting NFTs for three new accounts"
   ]
  },
  {
   "cell_type": "markdown",
   "id": "73be3804",
   "metadata": {},
   "source": [
    "The `demo/demo.py` file contains all the code necessary for the demo: generation of off-chain permits, of the hashes and the signatures, and communication with the API."
   ]
  },
  {
   "cell_type": "code",
   "execution_count": 9,
   "id": "66f72979",
   "metadata": {},
   "outputs": [],
   "source": [
    "demo = demo.Demo(nft_contract, staking_contract)"
   ]
  },
  {
   "cell_type": "markdown",
   "id": "facafefb",
   "metadata": {},
   "source": [
    "We generate 3 test accounts. None of them own any tez, and they cannot post transactions on Tezos themselves."
   ]
  },
  {
   "cell_type": "code",
   "execution_count": 10,
   "id": "15585dfa",
   "metadata": {},
   "outputs": [
    {
     "data": {
      "text/plain": [
       "['tz1fYpfLTfErLMvWEtgAcASvcgNnkgAhcHme',\n",
       " 'tz1dYe5EhqCULrB2d4ASBpibFB7gA6xUqUi5',\n",
       " 'tz1MxoG2c9Zzrvap4BriZ3qdpKbrm2pxBTJG']"
      ]
     },
     "execution_count": 10,
     "metadata": {},
     "output_type": "execute_result"
    }
   ],
   "source": [
    "keys = [Key.generate() for i in range(3)]\n",
    "senders = [k.public_key_hash() for k in keys]\n",
    "senders"
   ]
  },
  {
   "cell_type": "markdown",
   "id": "fb08d604",
   "metadata": {},
   "source": [
    "We call the API to request it to mint 100 tokens to all these accounts. These calls are done in parallel, but the API automatically groups them in a single transaction."
   ]
  },
  {
   "cell_type": "code",
   "execution_count": 11,
   "id": "9b80b6b2",
   "metadata": {},
   "outputs": [
    {
     "name": "stdout",
     "output_type": "stream",
     "text": [
      "calling http://127.0.0.1:8000/operation with sender=tz1fYpfLTfErLMvWEtgAcASvcgNnkgAhcHme\n",
      "calling http://127.0.0.1:8000/operation with sender=tz1dYe5EhqCULrB2d4ASBpibFB7gA6xUqUi5\n",
      "calling http://127.0.0.1:8000/operation with sender=tz1MxoG2c9Zzrvap4BriZ3qdpKbrm2pxBTJG\n"
     ]
    }
   ],
   "source": [
    "_ = demo.mint_requests(senders)"
   ]
  },
  {
   "cell_type": "markdown",
   "id": "12e37965",
   "metadata": {},
   "source": [
    "We can inspect the NFT ledger to see that all the addresses received tokens."
   ]
  },
  {
   "cell_type": "code",
   "execution_count": 12,
   "id": "653dc0cb",
   "metadata": {},
   "outputs": [
    {
     "name": "stdout",
     "output_type": "stream",
     "text": [
      "tz1fYpfLTfErLMvWEtgAcASvcgNnkgAhcHme owns 100 tokens.\n",
      "tz1dYe5EhqCULrB2d4ASBpibFB7gA6xUqUi5 owns 100 tokens.\n",
      "tz1MxoG2c9Zzrvap4BriZ3qdpKbrm2pxBTJG owns 100 tokens.\n",
      "<Response [200]>\n",
      "<Response [200]>\n",
      "<Response [200]>\n"
     ]
    }
   ],
   "source": [
    "for sender in senders:\n",
    "    minted = nft_contract.storage[\"ledger\"][(sender, 0)]()\n",
    "    print(f\"{sender} owns {minted} tokens.\")"
   ]
  },
  {
   "cell_type": "markdown",
   "id": "16e523f9",
   "metadata": {},
   "source": [
    "# Transferring the NFTs by signing off-chain permits"
   ]
  },
  {
   "cell_type": "markdown",
   "id": "c079dd7d",
   "metadata": {},
   "source": [
    "In this section, we're going to send 10 tokens to the “staking” contract. This contract does nothing special except from receiving the 10 tokens and saving the staker's address in its own storage. \n",
    "\n",
    "To be more precise, when we call `stake(10, address)`, the staking contract emits a new `transfer` operation, which is the one for which we signed the permit. If this permit wasn't signed, the whole transaction would fail."
   ]
  },
  {
   "cell_type": "code",
   "execution_count": 13,
   "id": "48a32e2c",
   "metadata": {},
   "outputs": [
    {
     "data": {
      "text/plain": [
       "<pytezos.contract.entrypoint.ContractEntrypoint object at 0x7f5c991466e0>\n",
       "\n",
       "Properties\n",
       ".key\t\ttz1VSUr8wwNhLAzempoch5d6hLRiTh8Cjcjb\n",
       ".shell\t\t['http://localhost:20000']\n",
       ".address\tKT1NYUCNsd5NybHVr3UVYZE4WQmWQn4VJddi\n",
       ".block_id\thead\n",
       ".entrypoint\tstake\n",
       "\n",
       "Builtin\n",
       "(*args, **kwargs)\t# build transaction parameters (see typedef)\n",
       "\n",
       "Typedef\n",
       "$stake:\n",
       "\t( nat, address )\n",
       "\n",
       "$nat:\n",
       "\tint  /* Natural number */\n",
       "\n",
       "$address:\n",
       "\tstr  /* Base58 encoded `tz` or `KT` address */\n",
       "\n",
       "\n",
       "Helpers\n",
       ".decode()\n",
       ".encode()"
      ]
     },
     "execution_count": 13,
     "metadata": {},
     "output_type": "execute_result"
    }
   ],
   "source": [
    "staking_contract.stake"
   ]
  },
  {
   "cell_type": "markdown",
   "id": "4af84e70",
   "metadata": {},
   "source": [
    "We can now sign the permits off-chain. This is the most complicated part (hidden inside the `Demo` class), as it involves hashing a few structures related to the contracts' entrypoints, and signing them. We're in the process of building SDKs for this.\n",
    "\n",
    "The hashes are then signed by each key (off-chain), and the permits can be posted on-chain by any account. They are then stored in the NFT contract."
   ]
  },
  {
   "cell_type": "code",
   "execution_count": 14,
   "id": "1d46fbf1",
   "metadata": {},
   "outputs": [
    {
     "name": "stdout",
     "output_type": "stream",
     "text": [
      "calling http://127.0.0.1:8000/operation with sender=tz1fYpfLTfErLMvWEtgAcASvcgNnkgAhcHme\n",
      "calling http://127.0.0.1:8000/operation with sender=tz1dYe5EhqCULrB2d4ASBpibFB7gA6xUqUi5\n",
      "calling http://127.0.0.1:8000/operation with sender=tz1MxoG2c9Zzrvap4BriZ3qdpKbrm2pxBTJG\n",
      "<Response [200]>\n",
      "<Response [409]>\n",
      "<Response [409]>\n"
     ]
    }
   ],
   "source": [
    "_ = demo.permit_requests(keys)"
   ]
  },
  {
   "cell_type": "markdown",
   "id": "f4fa6743",
   "metadata": {},
   "source": [
    "However, note that this demo uses a contract limited to a single, global counter; for technical reasons, **only one of these permits is valid** and the two others will be refused by the API.\n",
    "\n",
    "In production, we recommend using a more flexible smart contract. We leave this one in the demo to show that the API is somewhat robust to invalid transactions."
   ]
  },
  {
   "cell_type": "markdown",
   "id": "0417eca9",
   "metadata": {},
   "source": [
    "Finally, we can stake the 10 tokens. Again, this call could be posted by any account, not necessarily the API. As we don't know which user successfully posted a permit, we try all three."
   ]
  },
  {
   "cell_type": "code",
   "execution_count": 17,
   "id": "dcc9b456",
   "metadata": {},
   "outputs": [],
   "source": [
    "for key in keys:\n",
    "    demo.stake_request(key.public_key_hash())"
   ]
  },
  {
   "cell_type": "markdown",
   "id": "cb325b59",
   "metadata": {},
   "source": [
    "But we can check that the tokens have indeed been transfered to the staking contract:"
   ]
  },
  {
   "cell_type": "code",
   "execution_count": 18,
   "id": "dcc8d944",
   "metadata": {},
   "outputs": [
    {
     "data": {
      "text/plain": [
       "10"
      ]
     },
     "execution_count": 18,
     "metadata": {},
     "output_type": "execute_result"
    }
   ],
   "source": [
    "nft_contract.storage[\"ledger\"][(staking_contract.address, 0)]()"
   ]
  }
 ],
 "metadata": {
  "kernelspec": {
   "display_name": "Python 3 (ipykernel)",
   "language": "python",
   "name": "python3"
  },
  "language_info": {
   "codemirror_mode": {
    "name": "ipython",
    "version": 3
   },
   "file_extension": ".py",
   "mimetype": "text/x-python",
   "name": "python",
   "nbconvert_exporter": "python",
   "pygments_lexer": "ipython3",
   "version": "3.10.8"
  }
 },
 "nbformat": 4,
 "nbformat_minor": 5
}
