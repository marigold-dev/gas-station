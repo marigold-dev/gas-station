{
 "cells": [
  {
   "cell_type": "code",
   "execution_count": 1,
   "id": "441aaa0c",
   "metadata": {},
   "outputs": [],
   "source": [
    "import pytezos\n",
    "from pytezos.contract.interface import ContractInterface"
   ]
  },
  {
   "cell_type": "code",
   "execution_count": 2,
   "id": "0c834381",
   "metadata": {},
   "outputs": [],
   "source": [
    "import requests\n",
    "import json\n",
    "from dotenv import load_dotenv\n",
    "import os"
   ]
  },
  {
   "cell_type": "markdown",
   "id": "799f697b",
   "metadata": {},
   "source": [
    "# Testing Gas station API"
   ]
  },
  {
   "cell_type": "code",
   "execution_count": 3,
   "id": "60855c5c",
   "metadata": {},
   "outputs": [],
   "source": [
    "gas_station_api = \"http://localhost:8000\"\n",
    "contract_address = \"KT1HUdxmgZUw21ED9gqELVvCty5d1ff41p7J\"  # permit NFT contract on Ghostnet"
   ]
  },
  {
   "cell_type": "code",
   "execution_count": 4,
   "id": "0d1e9f63",
   "metadata": {},
   "outputs": [],
   "source": [
    "alice_key = \"edskRpm2mUhvoUjHjXgMoDRxMKhtKfww1ixmWiHCWhHuMEEbGzdnz8Ks4vgarKDtxok7HmrEo1JzkXkdkvyw7Rtw6BNtSd7MJ7\"\n",
    "alice = pytezos.Key.from_encoded_key(alice_key)\n",
    "ptz = pytezos.pytezos.using(\"https://ghostnet.tezos.marigold.dev\", alice)"
   ]
  },
  {
   "cell_type": "markdown",
   "id": "b227d685",
   "metadata": {},
   "source": [
    "We assume that alice has not been already registered as a user. If she was, skip this."
   ]
  },
  {
   "cell_type": "code",
   "execution_count": 5,
   "id": "23eff5ca",
   "metadata": {},
   "outputs": [],
   "source": [
    "r = requests.post(\n",
    "    f\"{gas_station_api}/sponsors\",\n",
    "    json = {\n",
    "        \"tezos_address\": alice.public_key_hash(),\n",
    "        \"name\": \"alice\"\n",
    "    }\n",
    ")"
   ]
  },
  {
   "cell_type": "code",
   "execution_count": 6,
   "id": "2e5d1f47",
   "metadata": {},
   "outputs": [],
   "source": [
    "assert r.status_code == 200"
   ]
  },
  {
   "cell_type": "code",
   "execution_count": 7,
   "id": "edb869bd",
   "metadata": {},
   "outputs": [],
   "source": [
    "r = requests.get(f\"{gas_station_api}/sponsors/{alice.public_key_hash()}\")"
   ]
  },
  {
   "cell_type": "code",
   "execution_count": 8,
   "id": "e1596858",
   "metadata": {},
   "outputs": [
    {
     "data": {
      "text/plain": [
       "{'tezos_address': 'tz1VSUr8wwNhLAzempoch5d6hLRiTh8Cjcjb',\n",
       " 'id': '2a5e9326-e725-4e60-a8cb-816bad6a4f7b',\n",
       " 'name': 'alice',\n",
       " 'withdraw_counter': 0}"
      ]
     },
     "execution_count": 8,
     "metadata": {},
     "output_type": "execute_result"
    }
   ],
   "source": [
    "alice_user = r.json()\n",
    "alice_user"
   ]
  },
  {
   "cell_type": "code",
   "execution_count": 9,
   "id": "cec218c1",
   "metadata": {},
   "outputs": [
    {
     "data": {
      "text/plain": [
       "{'id': '0cfb5c6d-9655-46c2-bddc-42b772b05367',\n",
       " 'amount': 0,\n",
       " 'owner_id': '2a5e9326-e725-4e60-a8cb-816bad6a4f7b'}"
      ]
     },
     "execution_count": 9,
     "metadata": {},
     "output_type": "execute_result"
    }
   ],
   "source": [
    "r = requests.get(f\"{gas_station_api}/credits/{alice_user['tezos_address']}\")\n",
    "credits = r.json()[0]\n",
    "assert r.status_code == 200\n",
    "credits"
   ]
  },
  {
   "cell_type": "code",
   "execution_count": 10,
   "id": "bf71169b",
   "metadata": {},
   "outputs": [],
   "source": [
    "register_contract = {\n",
    "  \"address\": contract_address,\n",
    "  \"owner_id\": alice_user[\"id\"],\n",
    "  \"name\": \"NFT1\",\n",
    "  \"entrypoints\": [\n",
    "    {\n",
    "      \"name\": \"mint_token\",\n",
    "      \"is_enabled\": True\n",
    "    },\n",
    "    {\n",
    "      \"name\": \"transfer\",\n",
    "      \"is_enabled\": True\n",
    "    },\n",
    "    {\n",
    "      \"name\": \"permit\",\n",
    "      \"is_enabled\": True\n",
    "    }\n",
    "  ],\n",
    "  \"credit_id\": credits[\"id\"]\n",
    "}"
   ]
  },
  {
   "cell_type": "code",
   "execution_count": 11,
   "id": "ecc30c7a",
   "metadata": {},
   "outputs": [],
   "source": [
    "r = requests.post(\n",
    "    f\"{gas_station_api}/contracts\",\n",
    "    json = register_contract\n",
    ")"
   ]
  },
  {
   "cell_type": "code",
   "execution_count": 12,
   "id": "3a285211",
   "metadata": {},
   "outputs": [],
   "source": [
    "assert r.status_code == 200"
   ]
  },
  {
   "cell_type": "code",
   "execution_count": 13,
   "id": "a2d993c0",
   "metadata": {},
   "outputs": [],
   "source": [
    "api_info = requests.get(\n",
    "    f\"{gas_station_api}/\"\n",
    ").json()"
   ]
  },
  {
   "cell_type": "code",
   "execution_count": 14,
   "id": "729037fe",
   "metadata": {},
   "outputs": [],
   "source": [
    "tr = ptz.transaction(destination=api_info[\"tezos_address\"], amount=int(1e6)).send()"
   ]
  },
  {
   "cell_type": "code",
   "execution_count": 15,
   "id": "27753cbf",
   "metadata": {},
   "outputs": [],
   "source": [
    "credits_deposit = {\n",
    "  \"id\": credits[\"id\"],\n",
    "  \"amount\": int(1e6),\n",
    "  \"operation_hash\": tr.hash(),\n",
    "  \"owner_id\": alice_user[\"id\"]\n",
    "}\n",
    "r = requests.put(\n",
    "    f\"{gas_station_api}/deposit\",\n",
    "    json = credits_deposit\n",
    ")"
   ]
  },
  {
   "cell_type": "code",
   "execution_count": 16,
   "id": "bcba5181",
   "metadata": {},
   "outputs": [],
   "source": [
    "assert r.status_code == 200"
   ]
  },
  {
   "cell_type": "code",
   "execution_count": 17,
   "id": "6d9af87b",
   "metadata": {},
   "outputs": [
    {
     "data": {
      "text/plain": [
       "[{'id': '0cfb5c6d-9655-46c2-bddc-42b772b05367',\n",
       "  'amount': 1000000,\n",
       "  'owner_id': '2a5e9326-e725-4e60-a8cb-816bad6a4f7b'}]"
      ]
     },
     "execution_count": 17,
     "metadata": {},
     "output_type": "execute_result"
    }
   ],
   "source": [
    "r = requests.get(\n",
    "    f\"{gas_station_api}/credits/{alice_user['id']}\"\n",
    ")\n",
    "r.json()"
   ]
  },
  {
   "cell_type": "code",
   "execution_count": 18,
   "id": "a83d8047",
   "metadata": {},
   "outputs": [],
   "source": [
    "ct1 = ptz.contract(contract_address)"
   ]
  },
  {
   "cell_type": "code",
   "execution_count": 19,
   "id": "eabaebdc",
   "metadata": {},
   "outputs": [
    {
     "name": "stdout",
     "output_type": "stream",
     "text": [
      "25\n"
     ]
    }
   ],
   "source": [
    "try:\n",
    "    print(ct1.storage[\"ledger\"][(\"tz1UtRfZGHjuHe5PJ7QpksEnn1K7BMJ4qVok\", 2)]())\n",
    "except:\n",
    "    print(0)"
   ]
  },
  {
   "cell_type": "code",
   "execution_count": 20,
   "id": "fd1734cd",
   "metadata": {},
   "outputs": [],
   "source": [
    "op_content = ct1.mint_token([{\n",
    "    \"owner\": \"tz1UtRfZGHjuHe5PJ7QpksEnn1K7BMJ4qVok\",\n",
    "    \"token_id\": 2,\n",
    "    \"amount_\": 1\n",
    "}]).as_transaction().contents"
   ]
  },
  {
   "cell_type": "code",
   "execution_count": 21,
   "id": "140b1471",
   "metadata": {},
   "outputs": [
    {
     "data": {
      "text/plain": [
       "200"
      ]
     },
     "execution_count": 21,
     "metadata": {},
     "output_type": "execute_result"
    }
   ],
   "source": [
    "operation = {\n",
    "  \"sender_address\": \"tz1UtRfZGHjuHe5PJ7QpksEnn1K7BMJ4qVok\",\n",
    "  \"operations\": op_content\n",
    "}\n",
    "r = requests.post(\n",
    "    f\"{gas_station_api}/operation\",\n",
    "    json=operation\n",
    ")\n",
    "r.status_code"
   ]
  },
  {
   "cell_type": "markdown",
   "id": "476f9bd6",
   "metadata": {},
   "source": [
    "Once the API has received the operation, we check the balance of the user for this token. After a while, it's showing as updated."
   ]
  },
  {
   "cell_type": "code",
   "execution_count": 22,
   "id": "8ff9a023",
   "metadata": {},
   "outputs": [
    {
     "name": "stdout",
     "output_type": "stream",
     "text": [
      "25\n"
     ]
    }
   ],
   "source": [
    "try:\n",
    "    print(ct1.storage[\"ledger\"][(\"tz1UtRfZGHjuHe5PJ7QpksEnn1K7BMJ4qVok\", 2)]())\n",
    "except:\n",
    "    print(0)"
   ]
  },
  {
   "cell_type": "code",
   "execution_count": 23,
   "id": "5508e9bc",
   "metadata": {},
   "outputs": [],
   "source": [
    "r = requests.get(\n",
    "    f\"{gas_station_api}/contracts/{contract_address}\"\n",
    ")\n",
    "contract_db = r.json()"
   ]
  },
  {
   "cell_type": "code",
   "execution_count": 24,
   "id": "0cbecd7f",
   "metadata": {},
   "outputs": [],
   "source": [
    "r = requests.post(\n",
    "    f\"{gas_station_api}/condition\",\n",
    "   json={\n",
    "      \"type\": \"MAX_CALLS_PER_SPONSEE\",\n",
    "      \"contract_id\": contract_db[\"id\"],\n",
    "      \"entrypoint_id\": None,\n",
    "      \"vault_id\": credits[\"id\"],\n",
    "      \"max\": 1\n",
    "    }\n",
    ")"
   ]
  },
  {
   "cell_type": "code",
   "execution_count": 25,
   "id": "33cbdddf",
   "metadata": {},
   "outputs": [
    {
     "data": {
      "text/plain": [
       "<Response [200]>"
      ]
     },
     "execution_count": 25,
     "metadata": {},
     "output_type": "execute_result"
    }
   ],
   "source": [
    "r"
   ]
  },
  {
   "cell_type": "markdown",
   "id": "b39438f0",
   "metadata": {},
   "source": [
    "Now that we have a condition, new users can use the service only a limited number of times. The first time we call `mint_token` with the same address, everything should work, as the condition is not retroactive."
   ]
  },
  {
   "cell_type": "code",
   "execution_count": 26,
   "id": "202834f6",
   "metadata": {},
   "outputs": [
    {
     "data": {
      "text/plain": [
       "200"
      ]
     },
     "execution_count": 26,
     "metadata": {},
     "output_type": "execute_result"
    }
   ],
   "source": [
    "operation = {\n",
    "  \"sender_address\": \"tz1UtRfZGHjuHe5PJ7QpksEnn1K7BMJ4qVok\",\n",
    "  \"operations\": op_content\n",
    "}\n",
    "r = requests.post(\n",
    "    f\"{gas_station_api}/operation\",\n",
    "    json=operation\n",
    ")\n",
    "r.status_code"
   ]
  },
  {
   "cell_type": "markdown",
   "id": "0d60d440",
   "metadata": {},
   "source": [
    "But the second time it will fail:"
   ]
  },
  {
   "cell_type": "code",
   "execution_count": 27,
   "id": "b34ffa8d",
   "metadata": {},
   "outputs": [
    {
     "data": {
      "text/plain": [
       "400"
      ]
     },
     "execution_count": 27,
     "metadata": {},
     "output_type": "execute_result"
    }
   ],
   "source": [
    "operation = {\n",
    "  \"sender_address\": \"tz1UtRfZGHjuHe5PJ7QpksEnn1K7BMJ4qVok\",\n",
    "  \"operations\": op_content\n",
    "}\n",
    "r = requests.post(\n",
    "    f\"{gas_station_api}/operation\",\n",
    "    json=operation\n",
    ")\n",
    "r.status_code"
   ]
  },
  {
   "cell_type": "markdown",
   "id": "4398dcad",
   "metadata": {},
   "source": [
    "However, for another user it still works. Note that we only changed sender_address, and kept op_content the same, so the user receiving the new NFT is still the same."
   ]
  },
  {
   "cell_type": "code",
   "execution_count": 28,
   "id": "166eb0a0",
   "metadata": {},
   "outputs": [
    {
     "data": {
      "text/plain": [
       "200"
      ]
     },
     "execution_count": 28,
     "metadata": {},
     "output_type": "execute_result"
    }
   ],
   "source": [
    "operation = {\n",
    "  \"sender_address\": \"tz1aH7Hj1s95wkPjCbMr2RMgTPq4RPHE1LLU\",\n",
    "  \"operations\": op_content\n",
    "}\n",
    "r = requests.post(\n",
    "    f\"{gas_station_api}/operation\",\n",
    "    json=operation\n",
    ")\n",
    "r.status_code"
   ]
  },
  {
   "cell_type": "code",
   "execution_count": 29,
   "id": "9daae29e",
   "metadata": {},
   "outputs": [
    {
     "data": {
      "text/plain": [
       "[{'type': 'MAX_CALLS_PER_SPONSEE',\n",
       "  'vault_id': '0cfb5c6d-9655-46c2-bddc-42b772b05367',\n",
       "  'created_at': '2024-03-15T10:55:20.172575+00:00',\n",
       "  'is_active': True,\n",
       "  'id': 'c86187e1-f184-4a2d-8dda-094cc581820f',\n",
       "  'contract_id': 'a7f3f5ee-a790-4784-b57b-b9e486d88838',\n",
       "  'entrypoint_id': None,\n",
       "  'max': 1,\n",
       "  'current': 2}]"
      ]
     },
     "execution_count": 29,
     "metadata": {},
     "output_type": "execute_result"
    }
   ],
   "source": [
    "requests.get(\n",
    "    f\"{gas_station_api}/condition/{credits['id']}\"\n",
    ").json()"
   ]
  }
 ],
 "metadata": {
  "kernelspec": {
   "display_name": "Python 3 (ipykernel)",
   "language": "python",
   "name": "python3"
  },
  "language_info": {
   "codemirror_mode": {
    "name": "ipython",
    "version": 3
   },
   "file_extension": ".py",
   "mimetype": "text/x-python",
   "name": "python",
   "nbconvert_exporter": "python",
   "pygments_lexer": "ipython3",
   "version": "3.11.1"
  }
 },
 "nbformat": 4,
 "nbformat_minor": 5
}
